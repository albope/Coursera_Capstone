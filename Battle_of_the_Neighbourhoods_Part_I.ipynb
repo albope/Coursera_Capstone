{
  "nbformat": 4,
  "nbformat_minor": 0,
  "metadata": {
    "colab": {
      "name": "Battle of the Neighbourhoods  - Part I.ipynb",
      "provenance": [],
      "authorship_tag": "ABX9TyNLN58QAsQNjyTxfq4bBa8F",
      "include_colab_link": true
    },
    "kernelspec": {
      "name": "python3",
      "display_name": "Python 3"
    }
  },
  "cells": [
    {
      "cell_type": "markdown",
      "metadata": {
        "id": "view-in-github",
        "colab_type": "text"
      },
      "source": [
        "<a href=\"https://colab.research.google.com/github/albope/Coursera_Capstone/blob/master/Battle_of_the_Neighbourhoods_Part_I.ipynb\" target=\"_parent\"><img src=\"https://colab.research.google.com/assets/colab-badge.svg\" alt=\"Open In Colab\"/></a>"
      ]
    },
    {
      "cell_type": "markdown",
      "metadata": {
        "id": "59nf5ghMSym6",
        "colab_type": "text"
      },
      "source": [
        "# **Battle of the Neighbourhoods Part I**\n",
        "\n",
        "## **Introduction and Problem**\n",
        "\n",
        "### Problem Background:\n",
        "\n",
        "The City of New York, is the most populous city in the United States. It is diverse and is the financial capital of USA. It is multicultural. It provides lot of business opportunities and it is a business friendly environment. It has attracted many different players into the market. It is a global hub of business and commerce. The city is a major center for banking and finance, retailing, world trade, transportation, tourism, real estate, new media, traditional media, advertising, legal services, accountancy, insurance, theater, fashion, and the arts in the United States.\n",
        "This also means that the market is highly competitive. As it is highly developed city so cost of doing business is also one of the highest. Thus, any new business venture or expansion needs to be analysed carefully. The insights derived from analysis will give good understanding of the business environment which help in strategically targeting the market. This will help in reduction of risk. And the Return on Investment will be reasonable.\n",
        "\n",
        "### Description of the Problem:\n",
        "\n",
        "A restaurant is a business which prepares and serves food and drink to customers in return for money, either paid before the meal, after the meal, or with an open account. The City of New York is famous for its excelllent cuisine. It's food culture includes an array of international cuisines influenced by the city's immigrant history, such as:\n",
        "\n",
        "1.\tCentral and Eastern European immigrants, especially Jewish immigrants - bagels, cheesecake, hot dogs, knishes, and delicatessens\n",
        "2.\tItalian immigrants - New York-style pizza and Italian cuisine\n",
        "3.\tJewish immigrants and Irish immigrants - pastrami and corned beef\n",
        "4.\tChinese and other Asian restaurants, sandwich joints, trattorias, diners, and coffeehouses are ubiquitous throughout the city\n",
        "5.\tmobile food vendors - Some 4,000 licensed by the city\n",
        "6.\tMiddle Eastern foods such as falafel and kebabs examples of modern New York street food\n",
        "\n",
        "So it is evident that to survive in such competitive market it is very important to strategically plan. Various factors need to be studied in order to decide on the Location such as :\n",
        "\n",
        "1.\tNew York Population\n",
        "2.\tNew York City Demographics\n",
        "3.\tAre there any Farmers Markets, Wholesale markets etc nearby so that the ingredients can be purchased fresh to maintain quality and cost?\n",
        "4.\tAre there any venues like Gyms, Entertainmnet zones, Parks etc nearby where floating population is high etc\n",
        "5.\tWho are the competitors in that location?\n",
        "6.\tCuisine served / Menu of the competitors\n",
        "7.\tSegmentation of the Borough\n",
        "8.\tUntapped markets\n",
        "9.\tSaturated markets etc\n",
        "\n",
        "Eventhough Imaginary Company Ltd. need to choose the correct location to start its first venture.If this is successful they can replicate the same in other locations. First move is very important, thereby choice of location is very important.\n",
        "\n",
        "### Target Audience:\n",
        "\n",
        "To recommend the correct location, Imaginary Company Ltd. The objective is to locate and recommend to the management which neighborhood of Newyork city will be best choice to start a restaurant. The Management also expects to understand the rationale of the recommendations made.\n",
        "This would interest anyone who wants to start a new restaurant in New york city.\n",
        "\n",
        "### Success Criteria:\n",
        "\n",
        "The success criteria of the project will be a good recommendation of borough/Neighborhood choice to Imaginary Company Ltd based on Lack of such restaurants in that location and nearest suppliers of ingredients.\n"
      ]
    }
  ]
}